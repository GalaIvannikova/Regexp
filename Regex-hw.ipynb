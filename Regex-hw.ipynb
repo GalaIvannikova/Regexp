{
 "cells": [
  {
   "cell_type": "markdown",
   "metadata": {},
   "source": [
    "# Домашнее задание к лекции \"Регулярные выражения\"\n",
    "Для зачета необходимо выполнить 4 задания.  \n",
    "Для зачета с отличием – все."
   ]
  },
  {
   "cell_type": "markdown",
   "metadata": {},
   "source": [
    "## Задание 1"
   ]
  },
  {
   "cell_type": "markdown",
   "metadata": {},
   "source": [
    "Напишите функцию, которая принимает на вход строку и проверяет является ли она валидным транспортным номером. Если да, то функция должна возвращать отдельно номер и регион."
   ]
  },
  {
   "cell_type": "code",
   "execution_count": 11,
   "metadata": {},
   "outputs": [
    {
     "name": "stdout",
     "output_type": "stream",
     "text": [
      "\n",
      "    Введите номер транспортного средства в формате: Х000ХХ ХХ\n",
      "    Где Х00ХХ - номер транспортного средства\n",
      "    ХХ - номер региона\n",
      "Введите номер транспортного средства: Р586НХ 47\n",
      "Номер транспортного средства - Р586НХ. Регион - 47\n"
     ]
    }
   ],
   "source": [
    "def car_numbers_valid():\n",
    "    import re \n",
    "    print('''\n",
    "    Введите номер транспортного средства в формате: Х000ХХ ХХ\n",
    "    Где Х00ХХ - номер транспортного средства\n",
    "    ХХ - номер региона''')\n",
    "    car_number = input('Введите номер транспортного средства: ')\n",
    "    # car_number = 'С227НА 50'\n",
    "\n",
    "    if car_number in re.findall(r'[А|В|Е|К|М|Н|О|Р|С|Т|У|Х][0-9]{3}[А|В|Е|К|М|Н|О|Р|С|Т|У|Х]{2}\\s\\d{2}', car_number):\n",
    "        split_result = re.split('[\\s?]', car_number)\n",
    "        print(f'Номер транспортного средства - {split_result[0]}. Регион - {split_result[1]}')\n",
    "    else:\n",
    "        print('Введенный вами номер не валидный. Пожалуйста, попробуйте ввести номер транспортного средства еще раз.')\n",
    "        return car_numbers_valid()\n",
    "\n",
    "car_numbers_valid()"
   ]
  },
  {
   "cell_type": "markdown",
   "metadata": {},
   "source": [
    "## Задание 2"
   ]
  },
  {
   "cell_type": "markdown",
   "metadata": {},
   "source": [
    "Напишите функцию, которая проверяет e-mail адрес на валидность по стандарту RFC822: http://www.w3.org/Protocols/rfc822/. Для этого постарайтесь написать (в крайнем случае найти) самый полный шаблон для проверки e-mail адресов через регулярное выражение. Разберитесь и напишите примеры, какие ваш шаблон может не охватить."
   ]
  },
  {
   "cell_type": "code",
   "execution_count": 10,
   "metadata": {},
   "outputs": [
    {
     "name": "stdout",
     "output_type": "stream",
     "text": [
      "Введите адрес электронной почты: пример.адреса@gmail.com.br\n",
      "Введенный email адрес пример.адреса@gmail.com.br валиден\n"
     ]
    }
   ],
   "source": [
    "# Делаю валидацию на примере статьи - https://habr.com/ru/post/224623/\n",
    "\n",
    "# Будем считать не валидными:\n",
    "#     allen@[IPv6:0:0:1] - IP адрес вместо домена\n",
    "#     !#$%&'*+-/=?^_`{}|~@example.com - использование спец символом, не добавленных в разрешенные\n",
    "#     адреса, которые начинаются с точки или другого спецсимвола\n",
    "#     \"Alan Turing\"@example.com - адреса, содержащие пробелы и/или кавычки\n",
    "#     mailbox@hostname - адреса, без указания зоны домена\n",
    "\n",
    "# Не обрабатываю ситуацию, когда в адресе домена стоит .. - две или более точек подряд\n",
    "\n",
    "\n",
    "def email_valid():\n",
    "    import re\n",
    "    email = input('Введите адрес электронной почты: ')\n",
    "    email_lowcase = email.lower()\n",
    "    pattern = r'[a-zA-Zа-яёА-ЯЁ0-9][a-zA-Zа-яёА-ЯЁ0-9\\'._+-]*[a-zA-Zа-яёА-ЯЁ0-9]@[a-zA-Zа-яёА-ЯЁ0-9._-]+\\.[a-zA-Zа-яёА-ЯЁ]{2,6}'\n",
    "    if email in re.findall(pattern, email):\n",
    "        print(f'Введенный email адрес {email_lowcase} валиден')\n",
    "    else:\n",
    "        print(f'Введенный вами email {email_lowcase} не является валидным. Попробуйте ввести адрес еще раз.')\n",
    "        return email_valid()\n",
    "    \n",
    "email_valid()"
   ]
  },
  {
   "cell_type": "markdown",
   "metadata": {},
   "source": [
    "## Задание 3\n",
    "Напишите функцию, которая будет удалять все последовательные повторы слов из заданной строки."
   ]
  },
  {
   "cell_type": "code",
   "execution_count": 2,
   "metadata": {},
   "outputs": [
    {
     "name": "stdout",
     "output_type": "stream",
     "text": [
      "Исходный текст:\n",
      "Hello   hello world world world world\n",
      "\n",
      "Текст без повторов слов:\n",
      "Hello world\n"
     ]
    }
   ],
   "source": [
    "# Вариант 2\n",
    "\n",
    "def delete_double(): \n",
    "    import re\n",
    "    string = 'Hello   hello world world world world'\n",
    "    # string = input('Введите текст: ')\n",
    "    \n",
    "    # Удаляем двойные пробелы\n",
    "    result1 = re.sub(r'(\\s+)\\1+', (r'\\1'), string, flags=re.I)\n",
    "    # Удаляем задвоенные слова везде, кроме дублирования первого слова\n",
    "    result2 = re.sub(r'(\\s+[A-Za-z0-9-]+?)\\1+', (r'\\1'), result1, flags=re.I)\n",
    "    # Удаляем дублирование первого слова\n",
    "    result = re.sub(r'([A-Za-z0-9-]+?\\s+)\\1+', (r'\\1'), result2, flags=re.I)\n",
    "    print(f'''Исходный текст:\n",
    "{string}\n",
    "''')\n",
    "    return f'''Текст без повторов слов:\n",
    "{result}'''\n",
    "\n",
    "\n",
    "\n",
    "print(delete_double())\n"
   ]
  },
  {
   "cell_type": "code",
   "execution_count": 5,
   "metadata": {},
   "outputs": [
    {
     "name": "stdout",
     "output_type": "stream",
     "text": [
      "Исходный текст:\n",
      "Hello   hello world world world world\n",
      "\n",
      "Текст без повторов слов:\n",
      "Hello world\n"
     ]
    }
   ],
   "source": [
    "# Вариант 2\n",
    "# Не работает, когда в строке всего 2 слова. \n",
    "\n",
    "def delete_double(): \n",
    "    import re\n",
    "    string = 'Hello   hello world world world world'\n",
    "    # string = input('Введите текст: ')\n",
    "    \n",
    "    result = re.sub(r'(\\w+)(\\s+)(\\w+)(\\s+)(\\w+)', (r'\\1'), string)\n",
    "    print(f'''Исходный текст:\n",
    "{string}\n",
    "''')\n",
    "    return f'''Текст без повторов слов:\n",
    "{result}'''\n",
    "\n",
    "\n",
    "\n",
    "print(delete_double())\n"
   ]
  },
  {
   "cell_type": "markdown",
   "metadata": {},
   "source": [
    "## Задание 4\n",
    "Напишите функцию, которая будет проверять номер сотового телефона на валидность, если он валиден, то переводить его в формат:   \n",
    "+7(xxx)-xxx-xx-xx  \n",
    "Постарайтесь предусмотреть как можно больше адекватных форматов изначального ввода номера.\n",
    "Примеры правильных и неправильных форматов:\n",
    "- +7 955 555-55-55;\n",
    "- 955555555;\n",
    "- 8(955)555-55-55;\n",
    "- +7 955 555 55 55;\n",
    "- 7(955) 555-55-55;\n",
    "- +7 955+555+55+55."
   ]
  },
  {
   "cell_type": "code",
   "execution_count": 9,
   "metadata": {},
   "outputs": [
    {
     "name": "stdout",
     "output_type": "stream",
     "text": [
      "Введите номер телефона: +8499 394 44 55 доб. 443\n",
      "Номер телефона +7(499)-394-44-55 валиден\n"
     ]
    }
   ],
   "source": [
    "# Предполагаю, что все мои телефонные номера из России.\n",
    "# Номера с кодами страны, отличной от РФ и Казахстана (+7) будут считаться не валидными\n",
    "\n",
    "def number_valid():\n",
    "    import re\n",
    "    number = input('Введите номер телефона: ')\n",
    "    # number = '+7 955+555+55+55'\n",
    "    number_format = re.findall('\\d', number)\n",
    "    if (number_format[0] == '7' or number_format[0] == '8') and (len(number_format) >= 11):\n",
    "        number_print = f'+7({number_format[1]}{number_format[2]}{number_format[3]})-{number_format[4]}\\\n",
    "{number_format[5]}{number_format[6]}-{number_format[7]}{number_format[8]}-{number_format[9]}{number_format[10]}'\n",
    "        print(f'Номер телефона {number_print} валиден')\n",
    "    else:\n",
    "        number_print = ''.join(number_format)\n",
    "        print(f'Номер телефона {number_print} не является валидным. Попробуйте еще раз.')\n",
    "\n",
    "\n",
    "number_valid()"
   ]
  }
 ],
 "metadata": {
  "kernelspec": {
   "display_name": "Python 3",
   "language": "python",
   "name": "python3"
  },
  "language_info": {
   "codemirror_mode": {
    "name": "ipython",
    "version": 3
   },
   "file_extension": ".py",
   "mimetype": "text/x-python",
   "name": "python",
   "nbconvert_exporter": "python",
   "pygments_lexer": "ipython3",
   "version": "3.7.4"
  }
 },
 "nbformat": 4,
 "nbformat_minor": 2
}
